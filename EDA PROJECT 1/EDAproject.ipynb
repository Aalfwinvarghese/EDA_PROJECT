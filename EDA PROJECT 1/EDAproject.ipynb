{
 "cells": [
  {
   "cell_type": "markdown",
   "metadata": {},
   "source": [
    "# INTRODUCTION"
   ]
  },
  {
   "cell_type": "markdown",
   "metadata": {},
   "source": [
    "### 'Earthquakes'  is the historical dataset that shows depth and intensity of 'Earthquakes' . We can anlyse and dive into depth of data that can provide major insights"
   ]
  },
  {
   "cell_type": "markdown",
   "metadata": {},
   "source": [
    "## Importing libraries"
   ]
  },
  {
   "cell_type": "code",
   "execution_count": 4,
   "metadata": {},
   "outputs": [],
   "source": [
    "import pandas as pd\n",
    "import numpy as np\n",
    "import matplotlib.pyplot as plt\n",
    "import seaborn as sns\n",
    "import warnings\n",
    "warnings .filterwarnings(\"ignore\")"
   ]
  },
  {
   "cell_type": "markdown",
   "metadata": {},
   "source": [
    "## LOAD DATA"
   ]
  },
  {
   "cell_type": "code",
   "execution_count": 5,
   "metadata": {},
   "outputs": [],
   "source": [
    "data=pd.read_csv('C:\\Datascience\\Dataset\\Earthquakes.csv')"
   ]
  },
  {
   "cell_type": "markdown",
   "metadata": {},
   "source": [
    "## EXPLORE DATA"
   ]
  },
  {
   "cell_type": "markdown",
   "metadata": {},
   "source": [
    "## View the first rows:"
   ]
  },
  {
   "cell_type": "code",
   "execution_count": 6,
   "metadata": {},
   "outputs": [
    {
     "data": {
      "text/plain": [
       "<bound method NDFrame.head of       Unnamed: 0        Date      Time  latitude  longitude  depth  mag  \\\n",
       "0              0  2014-03-17  05:11:34  -20.0030   -70.8741   17.0  6.2   \n",
       "1              1  2014-03-16  21:16:30  -19.9246   -70.6278   20.0  6.7   \n",
       "2              2  2014-03-15  23:51:30   -5.5660   -80.8790    9.8  6.3   \n",
       "3              3  2014-03-15  08:59:21  -14.0935   -76.2968   20.0  6.1   \n",
       "4              4  2014-03-13  17:06:50   33.6793   131.8197   79.0  6.3   \n",
       "...          ...         ...       ...       ...        ...    ...  ...   \n",
       "8308        8308  1900-01-31  19:22:00   48.0000   146.0000  450.0  7.5   \n",
       "8309        8309  1900-01-20  06:33:00   20.0000  -105.0000    0.0  7.3   \n",
       "8310        8310  1900-01-18  07:46:00   44.5000   148.5000   35.0  6.7   \n",
       "8311        8311  1900-01-11  09:07:00   -5.0000   148.0000    0.0  7.0   \n",
       "8312        8312  1900-01-05  19:00:00   -3.0000   102.0000    0.0  7.0   \n",
       "\n",
       "     magType  nst         net                        id  \\\n",
       "0        mww  NaN          us                usc000ndw9   \n",
       "1        mww  NaN          us                usc000ndnj   \n",
       "2        mwp  NaN          us                usc000nd0c   \n",
       "3        mww  NaN          us                usc000ncbl   \n",
       "4        mwb  NaN          us                usc000nabv   \n",
       "...      ...  ...         ...                       ...   \n",
       "8308      mj  0.0  centennial  centennial19000131192200   \n",
       "8309      mw  0.0  centennial  centennial19000120063300   \n",
       "8310      mj  0.0  centennial  centennial19000118074600   \n",
       "8311      ms  0.0  centennial  centennial19000111090700   \n",
       "8312      ms  0.0  centennial  centennial19000105190000   \n",
       "\n",
       "                       updated                            place        type  \n",
       "0     2014-03-17T14:57:11.000Z       80km WNW of Iquique, Chile  earthquake  \n",
       "1     2014-03-17T18:43:29.249Z       60km WNW of Iquique, Chile  earthquake  \n",
       "2     2014-03-18T17:52:18.000Z           6km W of Sechura, Peru  earthquake  \n",
       "3     2014-03-16T05:34:44.387Z          25km S of Paracas, Peru  earthquake  \n",
       "4     2014-03-17T23:24:32.491Z  15km NNE of Kunisaki-shi, Japan  earthquake  \n",
       "...                        ...                              ...         ...  \n",
       "8308  2013-07-09T19:07:15.000Z   northwest of the Kuril Islands  earthquake  \n",
       "8309  2013-07-09T19:07:15.000Z                  Jalisco, Mexico  earthquake  \n",
       "8310  2013-07-09T19:07:15.000Z                    Kuril Islands  earthquake  \n",
       "8311  2013-07-09T19:07:15.000Z                     Bismarck Sea  earthquake  \n",
       "8312  2013-07-09T19:07:15.000Z      southern Sumatra, Indonesia  earthquake  \n",
       "\n",
       "[8313 rows x 14 columns]>"
      ]
     },
     "execution_count": 6,
     "metadata": {},
     "output_type": "execute_result"
    }
   ],
   "source": [
    "data.head"
   ]
  },
  {
   "cell_type": "markdown",
   "metadata": {},
   "source": [
    "### View the last few rows:"
   ]
  },
  {
   "cell_type": "code",
   "execution_count": 7,
   "metadata": {},
   "outputs": [
    {
     "data": {
      "text/html": [
       "<div>\n",
       "<style scoped>\n",
       "    .dataframe tbody tr th:only-of-type {\n",
       "        vertical-align: middle;\n",
       "    }\n",
       "\n",
       "    .dataframe tbody tr th {\n",
       "        vertical-align: top;\n",
       "    }\n",
       "\n",
       "    .dataframe thead th {\n",
       "        text-align: right;\n",
       "    }\n",
       "</style>\n",
       "<table border=\"1\" class=\"dataframe\">\n",
       "  <thead>\n",
       "    <tr style=\"text-align: right;\">\n",
       "      <th></th>\n",
       "      <th>Unnamed: 0</th>\n",
       "      <th>Date</th>\n",
       "      <th>Time</th>\n",
       "      <th>latitude</th>\n",
       "      <th>longitude</th>\n",
       "      <th>depth</th>\n",
       "      <th>mag</th>\n",
       "      <th>magType</th>\n",
       "      <th>nst</th>\n",
       "      <th>net</th>\n",
       "      <th>id</th>\n",
       "      <th>updated</th>\n",
       "      <th>place</th>\n",
       "      <th>type</th>\n",
       "    </tr>\n",
       "  </thead>\n",
       "  <tbody>\n",
       "    <tr>\n",
       "      <th>8308</th>\n",
       "      <td>8308</td>\n",
       "      <td>1900-01-31</td>\n",
       "      <td>19:22:00</td>\n",
       "      <td>48.0</td>\n",
       "      <td>146.0</td>\n",
       "      <td>450.0</td>\n",
       "      <td>7.5</td>\n",
       "      <td>mj</td>\n",
       "      <td>0.0</td>\n",
       "      <td>centennial</td>\n",
       "      <td>centennial19000131192200</td>\n",
       "      <td>2013-07-09T19:07:15.000Z</td>\n",
       "      <td>northwest of the Kuril Islands</td>\n",
       "      <td>earthquake</td>\n",
       "    </tr>\n",
       "    <tr>\n",
       "      <th>8309</th>\n",
       "      <td>8309</td>\n",
       "      <td>1900-01-20</td>\n",
       "      <td>06:33:00</td>\n",
       "      <td>20.0</td>\n",
       "      <td>-105.0</td>\n",
       "      <td>0.0</td>\n",
       "      <td>7.3</td>\n",
       "      <td>mw</td>\n",
       "      <td>0.0</td>\n",
       "      <td>centennial</td>\n",
       "      <td>centennial19000120063300</td>\n",
       "      <td>2013-07-09T19:07:15.000Z</td>\n",
       "      <td>Jalisco, Mexico</td>\n",
       "      <td>earthquake</td>\n",
       "    </tr>\n",
       "    <tr>\n",
       "      <th>8310</th>\n",
       "      <td>8310</td>\n",
       "      <td>1900-01-18</td>\n",
       "      <td>07:46:00</td>\n",
       "      <td>44.5</td>\n",
       "      <td>148.5</td>\n",
       "      <td>35.0</td>\n",
       "      <td>6.7</td>\n",
       "      <td>mj</td>\n",
       "      <td>0.0</td>\n",
       "      <td>centennial</td>\n",
       "      <td>centennial19000118074600</td>\n",
       "      <td>2013-07-09T19:07:15.000Z</td>\n",
       "      <td>Kuril Islands</td>\n",
       "      <td>earthquake</td>\n",
       "    </tr>\n",
       "    <tr>\n",
       "      <th>8311</th>\n",
       "      <td>8311</td>\n",
       "      <td>1900-01-11</td>\n",
       "      <td>09:07:00</td>\n",
       "      <td>-5.0</td>\n",
       "      <td>148.0</td>\n",
       "      <td>0.0</td>\n",
       "      <td>7.0</td>\n",
       "      <td>ms</td>\n",
       "      <td>0.0</td>\n",
       "      <td>centennial</td>\n",
       "      <td>centennial19000111090700</td>\n",
       "      <td>2013-07-09T19:07:15.000Z</td>\n",
       "      <td>Bismarck Sea</td>\n",
       "      <td>earthquake</td>\n",
       "    </tr>\n",
       "    <tr>\n",
       "      <th>8312</th>\n",
       "      <td>8312</td>\n",
       "      <td>1900-01-05</td>\n",
       "      <td>19:00:00</td>\n",
       "      <td>-3.0</td>\n",
       "      <td>102.0</td>\n",
       "      <td>0.0</td>\n",
       "      <td>7.0</td>\n",
       "      <td>ms</td>\n",
       "      <td>0.0</td>\n",
       "      <td>centennial</td>\n",
       "      <td>centennial19000105190000</td>\n",
       "      <td>2013-07-09T19:07:15.000Z</td>\n",
       "      <td>southern Sumatra, Indonesia</td>\n",
       "      <td>earthquake</td>\n",
       "    </tr>\n",
       "  </tbody>\n",
       "</table>\n",
       "</div>"
      ],
      "text/plain": [
       "      Unnamed: 0        Date      Time  latitude  longitude  depth  mag  \\\n",
       "8308        8308  1900-01-31  19:22:00      48.0      146.0  450.0  7.5   \n",
       "8309        8309  1900-01-20  06:33:00      20.0     -105.0    0.0  7.3   \n",
       "8310        8310  1900-01-18  07:46:00      44.5      148.5   35.0  6.7   \n",
       "8311        8311  1900-01-11  09:07:00      -5.0      148.0    0.0  7.0   \n",
       "8312        8312  1900-01-05  19:00:00      -3.0      102.0    0.0  7.0   \n",
       "\n",
       "     magType  nst         net                        id  \\\n",
       "8308      mj  0.0  centennial  centennial19000131192200   \n",
       "8309      mw  0.0  centennial  centennial19000120063300   \n",
       "8310      mj  0.0  centennial  centennial19000118074600   \n",
       "8311      ms  0.0  centennial  centennial19000111090700   \n",
       "8312      ms  0.0  centennial  centennial19000105190000   \n",
       "\n",
       "                       updated                           place        type  \n",
       "8308  2013-07-09T19:07:15.000Z  northwest of the Kuril Islands  earthquake  \n",
       "8309  2013-07-09T19:07:15.000Z                 Jalisco, Mexico  earthquake  \n",
       "8310  2013-07-09T19:07:15.000Z                   Kuril Islands  earthquake  \n",
       "8311  2013-07-09T19:07:15.000Z                    Bismarck Sea  earthquake  \n",
       "8312  2013-07-09T19:07:15.000Z     southern Sumatra, Indonesia  earthquake  "
      ]
     },
     "execution_count": 7,
     "metadata": {},
     "output_type": "execute_result"
    }
   ],
   "source": [
    "data.tail()"
   ]
  },
  {
   "cell_type": "markdown",
   "metadata": {},
   "source": [
    "### Get basic data info :"
   ]
  },
  {
   "cell_type": "code",
   "execution_count": 8,
   "metadata": {},
   "outputs": [
    {
     "name": "stdout",
     "output_type": "stream",
     "text": [
      "<class 'pandas.core.frame.DataFrame'>\n",
      "RangeIndex: 8313 entries, 0 to 8312\n",
      "Data columns (total 14 columns):\n",
      " #   Column      Non-Null Count  Dtype  \n",
      "---  ------      --------------  -----  \n",
      " 0   Unnamed: 0  8313 non-null   int64  \n",
      " 1   Date        8313 non-null   object \n",
      " 2   Time        8313 non-null   object \n",
      " 3   latitude    8313 non-null   float64\n",
      " 4   longitude   8313 non-null   float64\n",
      " 5   depth       8313 non-null   float64\n",
      " 6   mag         8312 non-null   float64\n",
      " 7   magType     8298 non-null   object \n",
      " 8   nst         8111 non-null   float64\n",
      " 9   net         8313 non-null   object \n",
      " 10  id          8313 non-null   object \n",
      " 11  updated     8313 non-null   object \n",
      " 12  place       8304 non-null   object \n",
      " 13  type        8313 non-null   object \n",
      "dtypes: float64(5), int64(1), object(8)\n",
      "memory usage: 909.4+ KB\n"
     ]
    }
   ],
   "source": [
    "data.info()"
   ]
  },
  {
   "cell_type": "markdown",
   "metadata": {},
   "source": [
    "### Summary statitics"
   ]
  },
  {
   "cell_type": "code",
   "execution_count": 9,
   "metadata": {},
   "outputs": [
    {
     "data": {
      "text/html": [
       "<div>\n",
       "<style scoped>\n",
       "    .dataframe tbody tr th:only-of-type {\n",
       "        vertical-align: middle;\n",
       "    }\n",
       "\n",
       "    .dataframe tbody tr th {\n",
       "        vertical-align: top;\n",
       "    }\n",
       "\n",
       "    .dataframe thead th {\n",
       "        text-align: right;\n",
       "    }\n",
       "</style>\n",
       "<table border=\"1\" class=\"dataframe\">\n",
       "  <thead>\n",
       "    <tr style=\"text-align: right;\">\n",
       "      <th></th>\n",
       "      <th>Unnamed: 0</th>\n",
       "      <th>latitude</th>\n",
       "      <th>longitude</th>\n",
       "      <th>depth</th>\n",
       "      <th>mag</th>\n",
       "      <th>nst</th>\n",
       "    </tr>\n",
       "  </thead>\n",
       "  <tbody>\n",
       "    <tr>\n",
       "      <th>count</th>\n",
       "      <td>8313.000000</td>\n",
       "      <td>8313.000000</td>\n",
       "      <td>8313.000000</td>\n",
       "      <td>8313.000000</td>\n",
       "      <td>8312.000000</td>\n",
       "      <td>8111.000000</td>\n",
       "    </tr>\n",
       "    <tr>\n",
       "      <th>mean</th>\n",
       "      <td>4156.000000</td>\n",
       "      <td>4.954110</td>\n",
       "      <td>47.350161</td>\n",
       "      <td>76.855975</td>\n",
       "      <td>6.564870</td>\n",
       "      <td>245.151399</td>\n",
       "    </tr>\n",
       "    <tr>\n",
       "      <th>std</th>\n",
       "      <td>2399.900727</td>\n",
       "      <td>29.898265</td>\n",
       "      <td>122.446592</td>\n",
       "      <td>134.029768</td>\n",
       "      <td>0.482917</td>\n",
       "      <td>204.853588</td>\n",
       "    </tr>\n",
       "    <tr>\n",
       "      <th>min</th>\n",
       "      <td>0.000000</td>\n",
       "      <td>-71.000000</td>\n",
       "      <td>-179.990000</td>\n",
       "      <td>0.000000</td>\n",
       "      <td>6.000000</td>\n",
       "      <td>0.000000</td>\n",
       "    </tr>\n",
       "    <tr>\n",
       "      <th>25%</th>\n",
       "      <td>2078.000000</td>\n",
       "      <td>-16.120000</td>\n",
       "      <td>-72.051000</td>\n",
       "      <td>15.000000</td>\n",
       "      <td>6.200000</td>\n",
       "      <td>63.000000</td>\n",
       "    </tr>\n",
       "    <tr>\n",
       "      <th>50%</th>\n",
       "      <td>4156.000000</td>\n",
       "      <td>-0.534000</td>\n",
       "      <td>120.231000</td>\n",
       "      <td>32.100000</td>\n",
       "      <td>6.500000</td>\n",
       "      <td>221.000000</td>\n",
       "    </tr>\n",
       "    <tr>\n",
       "      <th>75%</th>\n",
       "      <td>6234.000000</td>\n",
       "      <td>32.327000</td>\n",
       "      <td>146.430000</td>\n",
       "      <td>57.200000</td>\n",
       "      <td>6.900000</td>\n",
       "      <td>371.500000</td>\n",
       "    </tr>\n",
       "    <tr>\n",
       "      <th>max</th>\n",
       "      <td>8312.000000</td>\n",
       "      <td>84.964000</td>\n",
       "      <td>180.000000</td>\n",
       "      <td>720.000000</td>\n",
       "      <td>9.600000</td>\n",
       "      <td>999.000000</td>\n",
       "    </tr>\n",
       "  </tbody>\n",
       "</table>\n",
       "</div>"
      ],
      "text/plain": [
       "        Unnamed: 0     latitude    longitude        depth          mag  \\\n",
       "count  8313.000000  8313.000000  8313.000000  8313.000000  8312.000000   \n",
       "mean   4156.000000     4.954110    47.350161    76.855975     6.564870   \n",
       "std    2399.900727    29.898265   122.446592   134.029768     0.482917   \n",
       "min       0.000000   -71.000000  -179.990000     0.000000     6.000000   \n",
       "25%    2078.000000   -16.120000   -72.051000    15.000000     6.200000   \n",
       "50%    4156.000000    -0.534000   120.231000    32.100000     6.500000   \n",
       "75%    6234.000000    32.327000   146.430000    57.200000     6.900000   \n",
       "max    8312.000000    84.964000   180.000000   720.000000     9.600000   \n",
       "\n",
       "               nst  \n",
       "count  8111.000000  \n",
       "mean    245.151399  \n",
       "std     204.853588  \n",
       "min       0.000000  \n",
       "25%      63.000000  \n",
       "50%     221.000000  \n",
       "75%     371.500000  \n",
       "max     999.000000  "
      ]
     },
     "execution_count": 9,
     "metadata": {},
     "output_type": "execute_result"
    }
   ],
   "source": [
    "data.describe()"
   ]
  },
  {
   "cell_type": "markdown",
   "metadata": {},
   "source": [
    "## CHEKING DATA INFORMATION"
   ]
  },
  {
   "cell_type": "markdown",
   "metadata": {},
   "source": [
    "## Missing values :\n"
   ]
  },
  {
   "cell_type": "code",
   "execution_count": 10,
   "metadata": {},
   "outputs": [
    {
     "data": {
      "text/plain": [
       "Unnamed: 0      0\n",
       "Date            0\n",
       "Time            0\n",
       "latitude        0\n",
       "longitude       0\n",
       "depth           0\n",
       "mag             1\n",
       "magType        15\n",
       "nst           202\n",
       "net             0\n",
       "id              0\n",
       "updated         0\n",
       "place           9\n",
       "type            0\n",
       "dtype: int64"
      ]
     },
     "execution_count": 10,
     "metadata": {},
     "output_type": "execute_result"
    }
   ],
   "source": [
    "data.isna().sum()\n",
    "# data['place'].isnull().sum()"
   ]
  },
  {
   "cell_type": "markdown",
   "metadata": {},
   "source": [
    "### Duplicates()"
   ]
  },
  {
   "cell_type": "code",
   "execution_count": 11,
   "metadata": {},
   "outputs": [
    {
     "data": {
      "text/plain": [
       "0"
      ]
     },
     "execution_count": 11,
     "metadata": {},
     "output_type": "execute_result"
    }
   ],
   "source": [
    "data.duplicated().sum()"
   ]
  },
  {
   "cell_type": "markdown",
   "metadata": {},
   "source": [
    "### Basic information:"
   ]
  },
  {
   "cell_type": "code",
   "execution_count": 12,
   "metadata": {},
   "outputs": [
    {
     "data": {
      "text/plain": [
       "Index(['Unnamed: 0', 'Date', 'Time', 'latitude', 'longitude', 'depth', 'mag',\n",
       "       'magType', 'nst', 'net', 'id', 'updated', 'place', 'type'],\n",
       "      dtype='object')"
      ]
     },
     "execution_count": 12,
     "metadata": {},
     "output_type": "execute_result"
    }
   ],
   "source": [
    "data.shape\n",
    "data.dtypes\n",
    "data.columns"
   ]
  },
  {
   "cell_type": "markdown",
   "metadata": {},
   "source": [
    "### CLEANING  DATA"
   ]
  },
  {
   "cell_type": "markdown",
   "metadata": {},
   "source": [
    "### Convert to correct format"
   ]
  },
  {
   "cell_type": "code",
   "execution_count": 13,
   "metadata": {},
   "outputs": [],
   "source": [
    "data['Date']=pd.to_datetime(data['Date'])\n",
    "data['Time']=pd.to_datetime(data['Time'])\n",
    "data['nst']=pd.to_numeric(data['nst'])\n",
    "# data['net']=pd.to_numeric(data['net'])\n",
    "data['updated']=pd.to_datetime(data['updated'])"
   ]
  },
  {
   "cell_type": "markdown",
   "metadata": {},
   "source": [
    "### Check weather numeric values in a column"
   ]
  },
  {
   "cell_type": "code",
   "execution_count": 14,
   "metadata": {},
   "outputs": [
    {
     "data": {
      "text/plain": [
       "0        True\n",
       "1        True\n",
       "2        True\n",
       "3        True\n",
       "4        True\n",
       "        ...  \n",
       "8308    False\n",
       "8309    False\n",
       "8310    False\n",
       "8311    False\n",
       "8312    False\n",
       "Name: nst, Length: 8313, dtype: bool"
      ]
     },
     "execution_count": 14,
     "metadata": {},
     "output_type": "execute_result"
    }
   ],
   "source": [
    "# pd.to_numeric(data['nst'], errors='coerce').isna()\n",
    "pd.to_numeric(data['nst'],errors='coerce').isna()"
   ]
  },
  {
   "cell_type": "markdown",
   "metadata": {},
   "source": [
    "### Removing duplicates"
   ]
  },
  {
   "cell_type": "code",
   "execution_count": 15,
   "metadata": {},
   "outputs": [],
   "source": [
    "data.drop_duplicates(inplace=True)"
   ]
  },
  {
   "cell_type": "markdown",
   "metadata": {},
   "source": [
    "### Filling null values"
   ]
  },
  {
   "cell_type": "code",
   "execution_count": 16,
   "metadata": {},
   "outputs": [],
   "source": [
    "data['place']=data['place'].fillna('unknouwn')\n",
    "# mean in mag\n",
    "x=data[\"mag\"].median()\n",
    "data[\"mag\"].fillna(x,inplace=True)\n",
    "# mag type\n",
    "data[\"magType\"]=data[\"magType\"].fillna(\"unknown\")\n",
    "#filling nst\n",
    "x=data[\"nst\"].mean()\n",
    "data['nst'].fillna(x,inplace=True)\n",
    "\n",
    "\n"
   ]
  },
  {
   "cell_type": "markdown",
   "metadata": {},
   "source": [
    "### Replacing column names:"
   ]
  },
  {
   "cell_type": "code",
   "execution_count": 17,
   "metadata": {},
   "outputs": [],
   "source": [
    "data.rename(columns={'Unnamed: 0':'Serial_no:'},inplace=True)\n",
    "data.rename(columns={'latitude':'Latitude'})\n",
    "#all column names to uppercase char\n",
    "data.columns=data.columns.str.upper()"
   ]
  },
  {
   "cell_type": "markdown",
   "metadata": {},
   "source": [
    "### Data manipulatiion"
   ]
  },
  {
   "cell_type": "code",
   "execution_count": 18,
   "metadata": {},
   "outputs": [
    {
     "data": {
      "text/html": [
       "<div>\n",
       "<style scoped>\n",
       "    .dataframe tbody tr th:only-of-type {\n",
       "        vertical-align: middle;\n",
       "    }\n",
       "\n",
       "    .dataframe tbody tr th {\n",
       "        vertical-align: top;\n",
       "    }\n",
       "\n",
       "    .dataframe thead th {\n",
       "        text-align: right;\n",
       "    }\n",
       "</style>\n",
       "<table border=\"1\" class=\"dataframe\">\n",
       "  <thead>\n",
       "    <tr style=\"text-align: right;\">\n",
       "      <th></th>\n",
       "      <th>SERIAL_NO:</th>\n",
       "      <th>DATE</th>\n",
       "      <th>TIME</th>\n",
       "      <th>LATITUDE</th>\n",
       "      <th>LONGITUDE</th>\n",
       "      <th>DEPTH</th>\n",
       "      <th>MAG</th>\n",
       "      <th>MAGTYPE</th>\n",
       "      <th>NST</th>\n",
       "      <th>NET</th>\n",
       "      <th>ID</th>\n",
       "      <th>UPDATED</th>\n",
       "      <th>PLACE</th>\n",
       "      <th>TYPE</th>\n",
       "    </tr>\n",
       "  </thead>\n",
       "  <tbody>\n",
       "    <tr>\n",
       "      <th>86</th>\n",
       "      <td>86</td>\n",
       "      <td>2013-07-22</td>\n",
       "      <td>2025-03-11 07:01:42</td>\n",
       "      <td>-46.0417</td>\n",
       "      <td>34.8255</td>\n",
       "      <td>10.00</td>\n",
       "      <td>6.1</td>\n",
       "      <td>Mwb</td>\n",
       "      <td>73.0</td>\n",
       "      <td>us</td>\n",
       "      <td>usb000ijj6</td>\n",
       "      <td>2013-11-01 18:59:22+00:00</td>\n",
       "      <td>244km WNW of Marion Island, Prince Edward Islands</td>\n",
       "      <td>earthquake</td>\n",
       "    </tr>\n",
       "    <tr>\n",
       "      <th>87</th>\n",
       "      <td>87</td>\n",
       "      <td>2013-07-21</td>\n",
       "      <td>2025-03-11 05:09:31</td>\n",
       "      <td>-41.7134</td>\n",
       "      <td>174.4431</td>\n",
       "      <td>14.00</td>\n",
       "      <td>6.5</td>\n",
       "      <td>Mww</td>\n",
       "      <td>106.0</td>\n",
       "      <td>us</td>\n",
       "      <td>usb000iivv</td>\n",
       "      <td>2013-11-01 18:59:11+00:00</td>\n",
       "      <td>46km ESE of Blenheim, New Zealand</td>\n",
       "      <td>earthquake</td>\n",
       "    </tr>\n",
       "    <tr>\n",
       "      <th>88</th>\n",
       "      <td>88</td>\n",
       "      <td>2013-07-17</td>\n",
       "      <td>2025-03-11 02:37:42</td>\n",
       "      <td>-15.6346</td>\n",
       "      <td>-71.7729</td>\n",
       "      <td>6.59</td>\n",
       "      <td>6.0</td>\n",
       "      <td>Mww</td>\n",
       "      <td>88.0</td>\n",
       "      <td>us</td>\n",
       "      <td>usb000ifva</td>\n",
       "      <td>2013-09-23 19:52:44+00:00</td>\n",
       "      <td>18km W of Chivay, Peru</td>\n",
       "      <td>earthquake</td>\n",
       "    </tr>\n",
       "    <tr>\n",
       "      <th>89</th>\n",
       "      <td>89</td>\n",
       "      <td>2013-07-16</td>\n",
       "      <td>2025-03-11 09:35:54</td>\n",
       "      <td>-6.3085</td>\n",
       "      <td>154.7822</td>\n",
       "      <td>44.25</td>\n",
       "      <td>6.0</td>\n",
       "      <td>Mwb</td>\n",
       "      <td>87.0</td>\n",
       "      <td>us</td>\n",
       "      <td>usb000if30</td>\n",
       "      <td>2013-09-23 19:52:42+00:00</td>\n",
       "      <td>77km W of Panguna, Papua New Guinea</td>\n",
       "      <td>earthquake</td>\n",
       "    </tr>\n",
       "    <tr>\n",
       "      <th>91</th>\n",
       "      <td>91</td>\n",
       "      <td>2013-07-07</td>\n",
       "      <td>2025-03-11 20:30:07</td>\n",
       "      <td>-6.0155</td>\n",
       "      <td>149.7215</td>\n",
       "      <td>62.03</td>\n",
       "      <td>6.6</td>\n",
       "      <td>Mww</td>\n",
       "      <td>113.0</td>\n",
       "      <td>us</td>\n",
       "      <td>usb000i8ey</td>\n",
       "      <td>2013-09-23 19:52:23+00:00</td>\n",
       "      <td>29km NE of Kandrian, Papua New Guinea</td>\n",
       "      <td>earthquake</td>\n",
       "    </tr>\n",
       "    <tr>\n",
       "      <th>...</th>\n",
       "      <td>...</td>\n",
       "      <td>...</td>\n",
       "      <td>...</td>\n",
       "      <td>...</td>\n",
       "      <td>...</td>\n",
       "      <td>...</td>\n",
       "      <td>...</td>\n",
       "      <td>...</td>\n",
       "      <td>...</td>\n",
       "      <td>...</td>\n",
       "      <td>...</td>\n",
       "      <td>...</td>\n",
       "      <td>...</td>\n",
       "      <td>...</td>\n",
       "    </tr>\n",
       "    <tr>\n",
       "      <th>8308</th>\n",
       "      <td>8308</td>\n",
       "      <td>1900-01-31</td>\n",
       "      <td>2025-03-11 19:22:00</td>\n",
       "      <td>48.0000</td>\n",
       "      <td>146.0000</td>\n",
       "      <td>450.00</td>\n",
       "      <td>7.5</td>\n",
       "      <td>mj</td>\n",
       "      <td>0.0</td>\n",
       "      <td>centennial</td>\n",
       "      <td>centennial19000131192200</td>\n",
       "      <td>2013-07-09 19:07:15+00:00</td>\n",
       "      <td>northwest of the Kuril Islands</td>\n",
       "      <td>earthquake</td>\n",
       "    </tr>\n",
       "    <tr>\n",
       "      <th>8309</th>\n",
       "      <td>8309</td>\n",
       "      <td>1900-01-20</td>\n",
       "      <td>2025-03-11 06:33:00</td>\n",
       "      <td>20.0000</td>\n",
       "      <td>-105.0000</td>\n",
       "      <td>0.00</td>\n",
       "      <td>7.3</td>\n",
       "      <td>mw</td>\n",
       "      <td>0.0</td>\n",
       "      <td>centennial</td>\n",
       "      <td>centennial19000120063300</td>\n",
       "      <td>2013-07-09 19:07:15+00:00</td>\n",
       "      <td>Jalisco, Mexico</td>\n",
       "      <td>earthquake</td>\n",
       "    </tr>\n",
       "    <tr>\n",
       "      <th>8310</th>\n",
       "      <td>8310</td>\n",
       "      <td>1900-01-18</td>\n",
       "      <td>2025-03-11 07:46:00</td>\n",
       "      <td>44.5000</td>\n",
       "      <td>148.5000</td>\n",
       "      <td>35.00</td>\n",
       "      <td>6.7</td>\n",
       "      <td>mj</td>\n",
       "      <td>0.0</td>\n",
       "      <td>centennial</td>\n",
       "      <td>centennial19000118074600</td>\n",
       "      <td>2013-07-09 19:07:15+00:00</td>\n",
       "      <td>Kuril Islands</td>\n",
       "      <td>earthquake</td>\n",
       "    </tr>\n",
       "    <tr>\n",
       "      <th>8311</th>\n",
       "      <td>8311</td>\n",
       "      <td>1900-01-11</td>\n",
       "      <td>2025-03-11 09:07:00</td>\n",
       "      <td>-5.0000</td>\n",
       "      <td>148.0000</td>\n",
       "      <td>0.00</td>\n",
       "      <td>7.0</td>\n",
       "      <td>ms</td>\n",
       "      <td>0.0</td>\n",
       "      <td>centennial</td>\n",
       "      <td>centennial19000111090700</td>\n",
       "      <td>2013-07-09 19:07:15+00:00</td>\n",
       "      <td>Bismarck Sea</td>\n",
       "      <td>earthquake</td>\n",
       "    </tr>\n",
       "    <tr>\n",
       "      <th>8312</th>\n",
       "      <td>8312</td>\n",
       "      <td>1900-01-05</td>\n",
       "      <td>2025-03-11 19:00:00</td>\n",
       "      <td>-3.0000</td>\n",
       "      <td>102.0000</td>\n",
       "      <td>0.00</td>\n",
       "      <td>7.0</td>\n",
       "      <td>ms</td>\n",
       "      <td>0.0</td>\n",
       "      <td>centennial</td>\n",
       "      <td>centennial19000105190000</td>\n",
       "      <td>2013-07-09 19:07:15+00:00</td>\n",
       "      <td>southern Sumatra, Indonesia</td>\n",
       "      <td>earthquake</td>\n",
       "    </tr>\n",
       "  </tbody>\n",
       "</table>\n",
       "<p>4404 rows × 14 columns</p>\n",
       "</div>"
      ],
      "text/plain": [
       "      SERIAL_NO:       DATE                TIME  LATITUDE  LONGITUDE   DEPTH  \\\n",
       "86            86 2013-07-22 2025-03-11 07:01:42  -46.0417    34.8255   10.00   \n",
       "87            87 2013-07-21 2025-03-11 05:09:31  -41.7134   174.4431   14.00   \n",
       "88            88 2013-07-17 2025-03-11 02:37:42  -15.6346   -71.7729    6.59   \n",
       "89            89 2013-07-16 2025-03-11 09:35:54   -6.3085   154.7822   44.25   \n",
       "91            91 2013-07-07 2025-03-11 20:30:07   -6.0155   149.7215   62.03   \n",
       "...          ...        ...                 ...       ...        ...     ...   \n",
       "8308        8308 1900-01-31 2025-03-11 19:22:00   48.0000   146.0000  450.00   \n",
       "8309        8309 1900-01-20 2025-03-11 06:33:00   20.0000  -105.0000    0.00   \n",
       "8310        8310 1900-01-18 2025-03-11 07:46:00   44.5000   148.5000   35.00   \n",
       "8311        8311 1900-01-11 2025-03-11 09:07:00   -5.0000   148.0000    0.00   \n",
       "8312        8312 1900-01-05 2025-03-11 19:00:00   -3.0000   102.0000    0.00   \n",
       "\n",
       "      MAG MAGTYPE    NST         NET                        ID  \\\n",
       "86    6.1     Mwb   73.0          us                usb000ijj6   \n",
       "87    6.5     Mww  106.0          us                usb000iivv   \n",
       "88    6.0     Mww   88.0          us                usb000ifva   \n",
       "89    6.0     Mwb   87.0          us                usb000if30   \n",
       "91    6.6     Mww  113.0          us                usb000i8ey   \n",
       "...   ...     ...    ...         ...                       ...   \n",
       "8308  7.5      mj    0.0  centennial  centennial19000131192200   \n",
       "8309  7.3      mw    0.0  centennial  centennial19000120063300   \n",
       "8310  6.7      mj    0.0  centennial  centennial19000118074600   \n",
       "8311  7.0      ms    0.0  centennial  centennial19000111090700   \n",
       "8312  7.0      ms    0.0  centennial  centennial19000105190000   \n",
       "\n",
       "                       UPDATED  \\\n",
       "86   2013-11-01 18:59:22+00:00   \n",
       "87   2013-11-01 18:59:11+00:00   \n",
       "88   2013-09-23 19:52:44+00:00   \n",
       "89   2013-09-23 19:52:42+00:00   \n",
       "91   2013-09-23 19:52:23+00:00   \n",
       "...                        ...   \n",
       "8308 2013-07-09 19:07:15+00:00   \n",
       "8309 2013-07-09 19:07:15+00:00   \n",
       "8310 2013-07-09 19:07:15+00:00   \n",
       "8311 2013-07-09 19:07:15+00:00   \n",
       "8312 2013-07-09 19:07:15+00:00   \n",
       "\n",
       "                                                  PLACE        TYPE  \n",
       "86    244km WNW of Marion Island, Prince Edward Islands  earthquake  \n",
       "87                    46km ESE of Blenheim, New Zealand  earthquake  \n",
       "88                               18km W of Chivay, Peru  earthquake  \n",
       "89                  77km W of Panguna, Papua New Guinea  earthquake  \n",
       "91                29km NE of Kandrian, Papua New Guinea  earthquake  \n",
       "...                                                 ...         ...  \n",
       "8308                     northwest of the Kuril Islands  earthquake  \n",
       "8309                                    Jalisco, Mexico  earthquake  \n",
       "8310                                      Kuril Islands  earthquake  \n",
       "8311                                       Bismarck Sea  earthquake  \n",
       "8312                        southern Sumatra, Indonesia  earthquake  \n",
       "\n",
       "[4404 rows x 14 columns]"
      ]
     },
     "execution_count": 18,
     "metadata": {},
     "output_type": "execute_result"
    }
   ],
   "source": [
    "data['NST']\n",
    "#selectt row by condition\n",
    "data[data['NST']<245]\n"
   ]
  },
  {
   "cell_type": "markdown",
   "metadata": {},
   "source": [
    "## Analysing Data"
   ]
  },
  {
   "cell_type": "markdown",
   "metadata": {},
   "source": [
    "# Project quastion and answeres"
   ]
  },
  {
   "cell_type": "markdown",
   "metadata": {},
   "source": [
    "# Questions"
   ]
  },
  {
   "cell_type": "markdown",
   "metadata": {},
   "source": [
    "### 1. Total no of eartrhquakes"
   ]
  },
  {
   "cell_type": "code",
   "execution_count": 19,
   "metadata": {},
   "outputs": [
    {
     "name": "stdout",
     "output_type": "stream",
     "text": [
      "Total earthquakes: 8313\n"
     ]
    }
   ],
   "source": [
    "print(f\"Total earthquakes: {data.shape[0]}\")"
   ]
  },
  {
   "cell_type": "markdown",
   "metadata": {},
   "source": [
    "### 2. Maximum and minimum earthquake magnitudes"
   ]
  },
  {
   "cell_type": "code",
   "execution_count": 20,
   "metadata": {},
   "outputs": [
    {
     "name": "stdout",
     "output_type": "stream",
     "text": [
      "Maximum magnitude:data<bound method NDFrame._add_numeric_operations.<locals>.max of 0       6.2\n",
      "1       6.7\n",
      "2       6.3\n",
      "3       6.1\n",
      "4       6.3\n",
      "       ... \n",
      "8308    7.5\n",
      "8309    7.3\n",
      "8310    6.7\n",
      "8311    7.0\n",
      "8312    7.0\n",
      "Name: MAG, Length: 8313, dtype: float64>\n",
      "Maximum magnitude:data<bound method NDFrame._add_numeric_operations.<locals>.min of 0       6.2\n",
      "1       6.7\n",
      "2       6.3\n",
      "3       6.1\n",
      "4       6.3\n",
      "       ... \n",
      "8308    7.5\n",
      "8309    7.3\n",
      "8310    6.7\n",
      "8311    7.0\n",
      "8312    7.0\n",
      "Name: MAG, Length: 8313, dtype: float64>\n"
     ]
    }
   ],
   "source": [
    "print(f\"Maximum magnitude:data{data['MAG'].max}\")\n",
    "print(f\"Maximum magnitude:data{data['MAG'].min}\")"
   ]
  },
  {
   "cell_type": "markdown",
   "metadata": {},
   "source": [
    "### 3. Places with highest earthgquak occurances"
   ]
  },
  {
   "cell_type": "code",
   "execution_count": 21,
   "metadata": {},
   "outputs": [
    {
     "data": {
      "text/plain": [
       "Vanuatu                                 349\n",
       "Kuril Islands                           224\n",
       "New Britain region, Papua New Guinea    195\n",
       "Fiji region                             190\n",
       "Solomon Islands                         183\n",
       "Name: PLACE, dtype: int64"
      ]
     },
     "execution_count": 21,
     "metadata": {},
     "output_type": "execute_result"
    }
   ],
   "source": [
    "data['PLACE'].value_counts().head()"
   ]
  },
  {
   "cell_type": "markdown",
   "metadata": {},
   "source": [
    "### 4. Most common earthquake magnitude type"
   ]
  },
  {
   "cell_type": "code",
   "execution_count": 22,
   "metadata": {},
   "outputs": [
    {
     "data": {
      "text/plain": [
       "'ms'"
      ]
     },
     "execution_count": 22,
     "metadata": {},
     "output_type": "execute_result"
    }
   ],
   "source": [
    "data['MAGTYPE'].mode()[0]\n"
   ]
  },
  {
   "cell_type": "markdown",
   "metadata": {},
   "source": [
    "\n",
    "### 5. Relationship between depth and magnitude (scatter plot)"
   ]
  },
  {
   "cell_type": "code",
   "execution_count": 23,
   "metadata": {},
   "outputs": [
    {
     "data": {
      "image/png": "[encoded data removed]",
      "text/plain": [
       "<Figure size 640x480 with 1 Axes>"
      ]
     },
     "metadata": {},
     "output_type": "display_data"
    }
   ],
   "source": [
    "plt.scatter(data['DEPTH'],data['MAG'],alpha=0.5)\n",
    "plt.title('Magnitude vs Depth')\n",
    "plt.xlabel('Depth (km)')\n",
    "plt.ylabel('Magnitude')\n",
    "plt.show()"
   ]
  },
  {
   "cell_type": "markdown",
   "metadata": {},
   "source": [
    "### 6. Distribution of earthquake magnitudes"
   ]
  },
  {
   "cell_type": "code",
   "execution_count": 24,
   "metadata": {},
   "outputs": [
    {
     "data": {
      "text/plain": [
       "Text(0, 0.5, 'Frequency')"
      ]
     },
     "execution_count": 24,
     "metadata": {},
     "output_type": "execute_result"
    },
    {
     "data": {
      "image/png": "[encoded data removed]",
      "text/plain": [
       "<Figure size 640x480 with 1 Axes>"
      ]
     },
     "metadata": {},
     "output_type": "display_data"
    }
   ],
   "source": [
    "plt.hist(data['MAG'], bins=20, color='skyblue', edgecolor='black')\n",
    "plt.title('Magnitude Distribution')\n",
    "plt.xlabel('Magnitude')\n",
    "plt.ylabel('Frequency')"
   ]
  },
  {
   "cell_type": "markdown",
   "metadata": {},
   "source": [
    "### 7. Earthquakes with Magnitude Greater than 6.0"
   ]
  },
  {
   "cell_type": "code",
   "execution_count": 25,
   "metadata": {},
   "outputs": [
    {
     "name": "stdout",
     "output_type": "stream",
     "text": [
      "Earthquakes with magnitude > 6.0:\n",
      "       SERIAL_NO:       DATE                TIME  LATITUDE  LONGITUDE  DEPTH  \\\n",
      "0              0 2014-03-17 2025-03-11 05:11:34  -20.0030   -70.8741   17.0   \n",
      "1              1 2014-03-16 2025-03-11 21:16:30  -19.9246   -70.6278   20.0   \n",
      "2              2 2014-03-15 2025-03-11 23:51:30   -5.5660   -80.8790    9.8   \n",
      "3              3 2014-03-15 2025-03-11 08:59:21  -14.0935   -76.2968   20.0   \n",
      "4              4 2014-03-13 2025-03-11 17:06:50   33.6793   131.8197   79.0   \n",
      "...          ...        ...                 ...       ...        ...    ...   \n",
      "8308        8308 1900-01-31 2025-03-11 19:22:00   48.0000   146.0000  450.0   \n",
      "8309        8309 1900-01-20 2025-03-11 06:33:00   20.0000  -105.0000    0.0   \n",
      "8310        8310 1900-01-18 2025-03-11 07:46:00   44.5000   148.5000   35.0   \n",
      "8311        8311 1900-01-11 2025-03-11 09:07:00   -5.0000   148.0000    0.0   \n",
      "8312        8312 1900-01-05 2025-03-11 19:00:00   -3.0000   102.0000    0.0   \n",
      "\n",
      "      MAG MAGTYPE         NST         NET                        ID  \\\n",
      "0     6.2     mww  245.151399          us                usc000ndw9   \n",
      "1     6.7     mww  245.151399          us                usc000ndnj   \n",
      "2     6.3     mwp  245.151399          us                usc000nd0c   \n",
      "3     6.1     mww  245.151399          us                usc000ncbl   \n",
      "4     6.3     mwb  245.151399          us                usc000nabv   \n",
      "...   ...     ...         ...         ...                       ...   \n",
      "8308  7.5      mj    0.000000  centennial  centennial19000131192200   \n",
      "8309  7.3      mw    0.000000  centennial  centennial19000120063300   \n",
      "8310  6.7      mj    0.000000  centennial  centennial19000118074600   \n",
      "8311  7.0      ms    0.000000  centennial  centennial19000111090700   \n",
      "8312  7.0      ms    0.000000  centennial  centennial19000105190000   \n",
      "\n",
      "                              UPDATED                            PLACE  \\\n",
      "0           2014-03-17 14:57:11+00:00       80km WNW of Iquique, Chile   \n",
      "1    2014-03-17 18:43:29.249000+00:00       60km WNW of Iquique, Chile   \n",
      "2           2014-03-18 17:52:18+00:00           6km W of Sechura, Peru   \n",
      "3    2014-03-16 05:34:44.387000+00:00          25km S of Paracas, Peru   \n",
      "4    2014-03-17 23:24:32.491000+00:00  15km NNE of Kunisaki-shi, Japan   \n",
      "...                               ...                              ...   \n",
      "8308        2013-07-09 19:07:15+00:00   northwest of the Kuril Islands   \n",
      "8309        2013-07-09 19:07:15+00:00                  Jalisco, Mexico   \n",
      "8310        2013-07-09 19:07:15+00:00                    Kuril Islands   \n",
      "8311        2013-07-09 19:07:15+00:00                     Bismarck Sea   \n",
      "8312        2013-07-09 19:07:15+00:00      southern Sumatra, Indonesia   \n",
      "\n",
      "            TYPE  \n",
      "0     earthquake  \n",
      "1     earthquake  \n",
      "2     earthquake  \n",
      "3     earthquake  \n",
      "4     earthquake  \n",
      "...          ...  \n",
      "8308  earthquake  \n",
      "8309  earthquake  \n",
      "8310  earthquake  \n",
      "8311  earthquake  \n",
      "8312  earthquake  \n",
      "\n",
      "[7131 rows x 14 columns]\n"
     ]
    }
   ],
   "source": [
    "high_magnitude_earthquakes = data[data['MAG'] > 6.0]\n",
    "print(\"Earthquakes with magnitude > 6.0:\\n\", high_magnitude_earthquakes)"
   ]
  },
  {
   "cell_type": "markdown",
   "metadata": {},
   "source": [
    "### 8.Outliers in Earthquake Magnitudes and Depths"
   ]
  },
  {
   "cell_type": "code",
   "execution_count": 26,
   "metadata": {},
   "outputs": [
    {
     "data": {
      "image/png": "[encoded data removed]",
      "text/plain": [
       "<Figure size 1200x600 with 1 Axes>"
      ]
     },
     "metadata": {},
     "output_type": "display_data"
    }
   ],
   "source": [
    "plt.figure(figsize=(12, 6))\n",
    "sns.boxplot(data=data[['MAG', 'DEPTH']])\n",
    "plt.title('Outliers in Magnitude and Depth')\n",
    "plt.show()"
   ]
  },
  {
   "cell_type": "markdown",
   "metadata": {},
   "source": [
    "### 9. Correlation Between Earthquake Depth and Magnitude"
   ]
  },
  {
   "cell_type": "code",
   "execution_count": 27,
   "metadata": {},
   "outputs": [
    {
     "name": "stdout",
     "output_type": "stream",
     "text": [
      "Correlation between depth and magnitude: 0.04042255336355666\n"
     ]
    },
    {
     "data": {
      "text/plain": [
       "<Axes: >"
      ]
     },
     "execution_count": 27,
     "metadata": {},
     "output_type": "execute_result"
    },
    {
     "data": {
      "image/png": "[encoded data removed]",
      "text/plain": [
       "<Figure size 640x480 with 2 Axes>"
      ]
     },
     "metadata": {},
     "output_type": "display_data"
    }
   ],
   "source": [
    "correlation = data['DEPTH'].corr(data['MAG'])\n",
    "print(\"Correlation between depth and magnitude:\", correlation)\n",
    "corre=data.corr(numeric_only=True)\n",
    "sns.heatmap(corre,annot=True)"
   ]
  },
  {
   "cell_type": "markdown",
   "metadata": {},
   "source": [
    " ### 10.Earthquakes by Time of Day"
   ]
  },
  {
   "cell_type": "code",
   "execution_count": 28,
   "metadata": {},
   "outputs": [
    {
     "name": "stdout",
     "output_type": "stream",
     "text": [
      "Earthquakes by time of day:\n",
      " Night        2121\n",
      "Evening      2107\n",
      "Morning      2071\n",
      "Afternoon    2014\n",
      "Name: Time of Day, dtype: int64\n"
     ]
    }
   ],
   "source": [
    "data['Hour'] = pd.to_datetime(data['TIME'], format='%H:%M:%S').dt.hour\n",
    "data['Time of Day'] = pd.cut(data['Hour'], bins=[0, 6, 12, 18, 24], labels=['Night', 'Morning', 'Afternoon', 'Evening'], right=False)\n",
    "time_of_day_counts = data['Time of Day'].value_counts()\n",
    "print(\"Earthquakes by time of day:\\n\", time_of_day_counts)\n"
   ]
  },
  {
   "cell_type": "markdown",
   "metadata": {},
   "source": [
    "### 11. Distribution of Earthquake Depths"
   ]
  },
  {
   "cell_type": "code",
   "execution_count": 29,
   "metadata": {},
   "outputs": [
    {
     "data": {
      "image/png": "[encoded data removed]",
      "text/plain": [
       "<Figure size 640x480 with 1 Axes>"
      ]
     },
     "metadata": {},
     "output_type": "display_data"
    }
   ],
   "source": [
    "sns.histplot(data['DEPTH'], bins=30, kde=True)\n",
    "plt.title('Distribution of Earthquake Depths')\n",
    "plt.show()"
   ]
  },
  {
   "cell_type": "markdown",
   "metadata": {},
   "source": [
    "### 12. Largest Magnitude Earthquake"
   ]
  },
  {
   "cell_type": "code",
   "execution_count": 30,
   "metadata": {},
   "outputs": [
    {
     "name": "stdout",
     "output_type": "stream",
     "text": [
      "Earthquake with the largest magnitude:\n",
      " SERIAL_NO:                          6071\n",
      "DATE                 1960-05-22 00:00:00\n",
      "TIME                 2025-03-11 19:11:17\n",
      "LATITUDE                         -38.294\n",
      "LONGITUDE                        -73.054\n",
      "DEPTH                               35.0\n",
      "MAG                                  9.6\n",
      "MAGTYPE                               mw\n",
      "NST                                 27.0\n",
      "NET                           centennial\n",
      "ID              centennial19600522191117\n",
      "UPDATED        2013-07-09 19:07:27+00:00\n",
      "PLACE                   Araucania, Chile\n",
      "TYPE                          earthquake\n",
      "Hour                                  19\n",
      "Time of Day                      Evening\n",
      "Name: 6071, dtype: object\n"
     ]
    }
   ],
   "source": [
    "max_magnitude = data.loc[data['MAG'].idxmax()]\n",
    "print(\"Earthquake with the largest magnitude:\\n\", max_magnitude)"
   ]
  },
  {
   "cell_type": "markdown",
   "metadata": {},
   "source": [
    "### 13. Total Number of Earthquakes Per Year ?"
   ]
  },
  {
   "cell_type": "code",
   "execution_count": 31,
   "metadata": {},
   "outputs": [
    {
     "name": "stdout",
     "output_type": "stream",
     "text": [
      "Earthquakes per year:\n",
      "      Year  Count\n",
      "0    1900     21\n",
      "1    1901     27\n",
      "2    1902     30\n",
      "3    1903     18\n",
      "4    1904     20\n",
      "..    ...    ...\n",
      "110  2010    174\n",
      "111  2011    207\n",
      "112  2012    133\n",
      "113  2013    143\n",
      "114  2014     25\n",
      "\n",
      "[115 rows x 2 columns]\n"
     ]
    }
   ],
   "source": [
    "data['Year'] = pd.to_datetime(data['DATE']).dt.year\n",
    "earthquakes_per_year = data.groupby('Year').size().reset_index(name='Count')\n",
    "print(\"Earthquakes per year:\\n\", earthquakes_per_year)"
   ]
  },
  {
   "cell_type": "markdown",
   "metadata": {},
   "source": [
    "### 14. How many earthquakes occurred for each magnitude type?"
   ]
  },
  {
   "cell_type": "code",
   "execution_count": 32,
   "metadata": {},
   "outputs": [
    {
     "name": "stdout",
     "output_type": "stream",
     "text": [
      "Earthquakes per magnitude type:\n",
      "     MAGTYPE  Count\n",
      "0        Mt      4\n",
      "1        Mw     64\n",
      "2       Mwb      6\n",
      "3       Mwc      1\n",
      "4       Mwp      1\n",
      "5       Mww      6\n",
      "6        mb    754\n",
      "7        mj    111\n",
      "8        ms   3847\n",
      "9        mw   1642\n",
      "10      mwb    102\n",
      "11      mwc    509\n",
      "12      mwp      2\n",
      "13      mwr      1\n",
      "14      mww    361\n",
      "15       uk    887\n",
      "16  unknown     15\n"
     ]
    }
   ],
   "source": [
    "earthquakes_per_magtype = data.groupby('MAGTYPE').size().reset_index(name='Count')\n",
    "print(\"Earthquakes per magnitude type:\\n\", earthquakes_per_magtype)"
   ]
  },
  {
   "cell_type": "markdown",
   "metadata": {},
   "source": [
    "### 15. Number of Earthquakes by Year and Location"
   ]
  },
  {
   "cell_type": "code",
   "execution_count": 33,
   "metadata": {},
   "outputs": [
    {
     "name": "stdout",
     "output_type": "stream",
     "text": [
      "Earthquakes per year and location:\n",
      "       Year                                  PLACE  Count\n",
      "0     1900                           Bismarck Sea      2\n",
      "1     1900                             Costa Rica      1\n",
      "2     1900  Federated States of Micronesia region      1\n",
      "3     1900                 Hokkaido, Japan region      1\n",
      "4     1900              Izu Islands, Japan region      1\n",
      "...    ...                                    ...    ...\n",
      "5473  2014                 6km W of Sechura, Peru      1\n",
      "5474  2014       77km WNW of Ferndale, California      1\n",
      "5475  2014           7km NNW of Lixourion, Greece      1\n",
      "5476  2014             80km WNW of Iquique, Chile      1\n",
      "5477  2014     East of the South Sandwich Islands      1\n",
      "\n",
      "[5478 rows x 3 columns]\n"
     ]
    }
   ],
   "source": [
    "earthquakes_year_location = data.groupby(['Year', 'PLACE']).size().reset_index(name='Count')\n",
    "print(\"Earthquakes per year and location:\\n\", earthquakes_year_location)"
   ]
  },
  {
   "cell_type": "markdown",
   "metadata": {},
   "source": [
    "# Conclusion\n"
   ]
  },
  {
   "cell_type": "markdown",
   "metadata": {},
   "source": [
    "### This is dataset that shows  the depth and vulnerability of earthquakes . The dataset shows date , time , latitude , longitude , magnitude , time etc shows the occurance of earthquackes.Through anslysing the data we can understand the maximum depth , ocuurances and some of the other factors that can be helpfull for attaing a indication thaat provide us to underfstand the future precuutuanory steps should be taken . Analysing depth and magnitude consisits as one of the main factor for future prediction of the  data"
   ]
  },
  {
   "cell_type": "markdown",
   "metadata": {},
   "source": []
  }
 ],
 "metadata": {
  "kernelspec": {
   "display_name": "base",
   "language": "python",
   "name": "python3"
  },
  "language_info": {
   "codemirror_mode": {
    "name": "ipython",
    "version": 3
   },
   "file_extension": ".py",
   "mimetype": "text/x-python",
   "name": "python",
   "nbconvert_exporter": "python",
   "pygments_lexer": "ipython3",
   "version": "3.10.9"
  }
 },
 "nbformat": 4,
 "nbformat_minor": 2
}
